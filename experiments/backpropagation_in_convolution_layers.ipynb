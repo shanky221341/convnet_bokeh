{
 "cells": [
  {
   "cell_type": "code",
   "execution_count": 1,
   "metadata": {},
   "outputs": [],
   "source": [
    "import numpy as np\n",
    "import pandas as pd"
   ]
  },
  {
   "cell_type": "code",
   "execution_count": null,
   "metadata": {},
   "outputs": [],
   "source": [
    "x = np.array([[1, 1, 1, 0, 0],\n",
    "                  [0, 1, 1, 1, 0],\n",
    "                  [0, 0, 1, 1, 1],\n",
    "                  [0, 0, 1, 1, 0],\n",
    "                  [0, 1, 1, 0, 0]],\n",
    "                 dtype='float')"
   ]
  },
  {
   "cell_type": "code",
   "execution_count": 8,
   "metadata": {},
   "outputs": [],
   "source": [
    "input_data_size=32\n",
    "input_channel1=np.random.choice([1,0],size=[input_data_size,input_data_size])\n",
    "input_channel2=np.random.choice([1,0],size=[input_data_size,input_data_size])\n",
    "input_channel3=np.random.choice([1,0],size=[input_data_size,input_data_size])"
   ]
  },
  {
   "cell_type": "code",
   "execution_count": 9,
   "metadata": {},
   "outputs": [],
   "source": [
    "input_data=np.array([input_channel1,input_channel2,input_channel3])"
   ]
  },
  {
   "cell_type": "code",
   "execution_count": 10,
   "metadata": {},
   "outputs": [],
   "source": [
    "filt_size=5\n",
    "filt_channel1=np.random.choice([1,0],size=[filt_size,filt_size])\n",
    "filt_channel2=np.random.choice([1,0],size=[filt_size,filt_size])\n",
    "filt_channel3=np.random.choice([1,0],size=[filt_size,filt_size])"
   ]
  },
  {
   "cell_type": "code",
   "execution_count": 14,
   "metadata": {},
   "outputs": [],
   "source": [
    "filt=np.array([filt_channel1,filt_channel2,filt_channel3])"
   ]
  },
  {
   "cell_type": "code",
   "execution_count": 19,
   "metadata": {},
   "outputs": [],
   "source": [
    "# lets suppose the output number of channles is 5\n",
    "output_size=28\n",
    "output_channel1=np.random.choice([1,0],size=[output_size,output_size])\n",
    "output_channel2=np.random.choice([1,0],size=[output_size,output_size])\n",
    "output_channel3=np.random.choice([1,0],size=[output_size,output_size])\n",
    "output_channel4=np.random.choice([1,0],size=[output_size,output_size])\n",
    "output_channel5=np.random.choice([1,0],size=[output_size,output_size])"
   ]
  },
  {
   "cell_type": "code",
   "execution_count": 24,
   "metadata": {},
   "outputs": [],
   "source": [
    "output_data=np.array([output_channel1,output_channel2,output_channel3,output_channel4,output_channel5])"
   ]
  },
  {
   "cell_type": "code",
   "execution_count": 26,
   "metadata": {},
   "outputs": [
    {
     "data": {
      "text/plain": [
       "(28, 28)"
      ]
     },
     "execution_count": 26,
     "metadata": {},
     "output_type": "execute_result"
    }
   ],
   "source": [
    "output_data[0].shape"
   ]
  },
  {
   "cell_type": "code",
   "execution_count": 42,
   "metadata": {},
   "outputs": [
    {
     "data": {
      "text/plain": [
       "array([[ 1,  2,  3,  4,  5],\n",
       "       [ 6,  7,  8,  9, 10],\n",
       "       [11, 12, 13, 14, 15],\n",
       "       [16, 17, 18, 19, 20],\n",
       "       [21, 22, 23, 24, 25]])"
      ]
     },
     "execution_count": 42,
     "metadata": {},
     "output_type": "execute_result"
    }
   ],
   "source": [
    "np.array(range(1,26)).reshape(5,5)"
   ]
  },
  {
   "cell_type": "code",
   "execution_count": 43,
   "metadata": {},
   "outputs": [],
   "source": [
    "# x = np.array([[1, 1, 1, 0, 0],\n",
    "#                   [0, 1, 1, 1, 0],\n",
    "#                   [0, 0, 1, 1, 1],\n",
    "#                   [0, 0, 1, 1, 0],\n",
    "#                   [0, 1, 1, 0, 0]],\n",
    "#                  dtype='float')\n",
    "\n",
    "x=np.array(range(1,26)).reshape(5,5)"
   ]
  },
  {
   "cell_type": "code",
   "execution_count": 44,
   "metadata": {},
   "outputs": [
    {
     "name": "stdout",
     "output_type": "stream",
     "text": [
      "Index list for horizontal direction ->[(0, 2), (1, 3), (2, 4)]\n",
      "Vertical start indexes ->[0, 1, 2]\n"
     ]
    }
   ],
   "source": [
    "filter_size=3\n",
    "stride=1\n",
    "index_list=[]\n",
    "vertical_start_pos=[]\n",
    "i=0\n",
    "j=0\n",
    "while j<x.shape[1]-1:\n",
    "    j=(i+filter_size-1)\n",
    "    index_list.append((i,j))\n",
    "    vertical_start_pos.append(i)\n",
    "    i+=stride\n",
    "print(\"Index list for horizontal direction ->{}\".format(index_list))\n",
    "print(\"Vertical start indexes ->{}\".format(vertical_start_pos))"
   ]
  },
  {
   "cell_type": "code",
   "execution_count": 45,
   "metadata": {},
   "outputs": [],
   "source": [
    "v_mat=[]\n",
    "for v_start in vertical_start_pos:\n",
    "    h_mat=[]\n",
    "    for indexes in index_list:    \n",
    "        sub_matrice=[]\n",
    "        for vertical_start in range(v_start,v_start+filter_size):    \n",
    "            sub_matrice.append(x[vertical_start,][indexes[0]:indexes[1]+1])\n",
    "        h_mat.append(np.array(sub_matrice))\n",
    "    v_mat.append(h_mat)    "
   ]
  },
  {
   "cell_type": "code",
   "execution_count": 46,
   "metadata": {},
   "outputs": [
    {
     "data": {
      "text/plain": [
       "array([[ 1,  2,  3,  4,  5],\n",
       "       [ 6,  7,  8,  9, 10],\n",
       "       [11, 12, 13, 14, 15],\n",
       "       [16, 17, 18, 19, 20],\n",
       "       [21, 22, 23, 24, 25]])"
      ]
     },
     "execution_count": 46,
     "metadata": {},
     "output_type": "execute_result"
    }
   ],
   "source": [
    "x"
   ]
  },
  {
   "cell_type": "code",
   "execution_count": 76,
   "metadata": {},
   "outputs": [
    {
     "data": {
      "text/plain": [
       "array([[1, 2, 3],\n",
       "       [4, 5, 6],\n",
       "       [7, 8, 9]])"
      ]
     },
     "execution_count": 76,
     "metadata": {},
     "output_type": "execute_result"
    }
   ],
   "source": [
    "dx=np.array(range(1,10)).reshape(3,3)\n",
    "act=np.array(range(1,10)).reshape(3,3)\n",
    "act"
   ]
  },
  {
   "cell_type": "code",
   "execution_count": 72,
   "metadata": {},
   "outputs": [
    {
     "data": {
      "text/plain": [
       "[(1, 2)]"
      ]
     },
     "execution_count": 72,
     "metadata": {},
     "output_type": "execute_result"
    }
   ],
   "source": [
    "coord"
   ]
  },
  {
   "cell_type": "code",
   "execution_count": 78,
   "metadata": {},
   "outputs": [
    {
     "data": {
      "text/plain": [
       "array([[ 2,  3,  4],\n",
       "       [ 7,  8,  9],\n",
       "       [12, 13, 14]])"
      ]
     },
     "execution_count": 78,
     "metadata": {},
     "output_type": "execute_result"
    }
   ],
   "source": [
    "v_mat[0][1]"
   ]
  },
  {
   "cell_type": "code",
   "execution_count": 92,
   "metadata": {},
   "outputs": [
    {
     "data": {
      "text/plain": [
       "array([[1, 2, 3],\n",
       "       [4, 5, 6],\n",
       "       [7, 8, 9]])"
      ]
     },
     "execution_count": 92,
     "metadata": {},
     "output_type": "execute_result"
    }
   ],
   "source": [
    "act"
   ]
  },
  {
   "cell_type": "code",
   "execution_count": 106,
   "metadata": {},
   "outputs": [
    {
     "name": "stdout",
     "output_type": "stream",
     "text": [
      "3th number is at [(0, 2)]\n",
      "3th number is at [(0, 1)]\n",
      "3th number is at [(0, 0)]\n",
      "3th number is at []\n",
      "3th number is at []\n",
      "3th number is at []\n",
      "3th number is at []\n",
      "3th number is at []\n",
      "3th number is at []\n"
     ]
    }
   ],
   "source": [
    "number=3\n",
    "grad=''\n",
    "for i in range(3):\n",
    "    for j in range(3):\n",
    "        result=np.where(v_mat[i][j]==number)\n",
    "        coord=list(zip(result[0], result[1]))\n",
    "        print(\"{}th number is at {}\".format(number,coord))\n",
    "        if len(coord)!=0:\n",
    "            grad=grad+\"act[\"+str(act[coord[0]])+\"]\"+\"* \"+\"dx[\"+str(dx[i][j])+\"]\"\n",
    "            grad=grad+\"+\"\n",
    "grad=grad[:-1]            "
   ]
  },
  {
   "cell_type": "code",
   "execution_count": 107,
   "metadata": {},
   "outputs": [
    {
     "data": {
      "text/plain": [
       "'act[3]* dx[1]+act[2]* dx[2]+act[1]* dx[3]'"
      ]
     },
     "execution_count": 107,
     "metadata": {},
     "output_type": "execute_result"
    }
   ],
   "source": [
    "grad"
   ]
  },
  {
   "cell_type": "code",
   "execution_count": 100,
   "metadata": {},
   "outputs": [
    {
     "data": {
      "text/plain": [
       "array([[1, 2, 3],\n",
       "       [4, 5, 6],\n",
       "       [7, 8, 9]])"
      ]
     },
     "execution_count": 100,
     "metadata": {},
     "output_type": "execute_result"
    }
   ],
   "source": [
    "act"
   ]
  },
  {
   "cell_type": "code",
   "execution_count": 47,
   "metadata": {},
   "outputs": [
    {
     "name": "stdout",
     "output_type": "stream",
     "text": [
      "[1 2 3] [2 3 4] [3 4 5] \n",
      "[6 7 8] [7 8 9] [ 8  9 10] \n",
      "[11 12 13] [12 13 14] [13 14 15] \n",
      "\n",
      "[6 7 8] [7 8 9] [ 8  9 10] \n",
      "[11 12 13] [12 13 14] [13 14 15] \n",
      "[16 17 18] [17 18 19] [18 19 20] \n",
      "\n",
      "[11 12 13] [12 13 14] [13 14 15] \n",
      "[16 17 18] [17 18 19] [18 19 20] \n",
      "[21 22 23] [22 23 24] [23 24 25] \n",
      "\n"
     ]
    }
   ],
   "source": [
    "for h_mat_set in v_mat:\n",
    "    aa=h_mat_set\n",
    "    cc=''\n",
    "    for j in range(aa[0].shape[0]):\n",
    "        for i in range(len(aa)):\n",
    "            cc=cc+str(aa[i][j])+\" \"\n",
    "        cc=cc+'\\n'\n",
    "    print(cc)    "
   ]
  }
 ],
 "metadata": {
  "kernelspec": {
   "display_name": "Python 3",
   "language": "python",
   "name": "python3"
  },
  "language_info": {
   "codemirror_mode": {
    "name": "ipython",
    "version": 3
   },
   "file_extension": ".py",
   "mimetype": "text/x-python",
   "name": "python",
   "nbconvert_exporter": "python",
   "pygments_lexer": "ipython3",
   "version": "3.6.8"
  }
 },
 "nbformat": 4,
 "nbformat_minor": 2
}
