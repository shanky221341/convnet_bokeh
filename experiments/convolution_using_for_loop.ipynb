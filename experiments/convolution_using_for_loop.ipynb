{
 "cells": [
  {
   "cell_type": "markdown",
   "metadata": {},
   "source": [
    "### This notebook contains the functions for performing convolution operation on a given input matrix(image channel) using a sqaure sized filter(odd prefered)"
   ]
  },
  {
   "cell_type": "code",
   "execution_count": 1,
   "metadata": {},
   "outputs": [],
   "source": [
    "import numpy as np\n",
    "from scipy import signal"
   ]
  },
  {
   "cell_type": "markdown",
   "metadata": {},
   "source": [
    "### Create a sample numpy array of 5X5"
   ]
  },
  {
   "cell_type": "code",
   "execution_count": 2,
   "metadata": {},
   "outputs": [],
   "source": [
    "x = np.array([[1, 1, 1, 0, 0],\n",
    "                  [0, 1, 1, 1, 0],\n",
    "                  [0, 0, 1, 1, 1],\n",
    "                  [0, 0, 1, 1, 0],\n",
    "                  [0, 1, 1, 0, 0]],\n",
    "                 dtype='float')"
   ]
  },
  {
   "cell_type": "code",
   "execution_count": 3,
   "metadata": {},
   "outputs": [
    {
     "data": {
      "text/plain": [
       "array([[1., 1., 1., 0., 0.],\n",
       "       [0., 1., 1., 1., 0.],\n",
       "       [0., 0., 1., 1., 1.],\n",
       "       [0., 0., 1., 1., 0.],\n",
       "       [0., 1., 1., 0., 0.]])"
      ]
     },
     "execution_count": 3,
     "metadata": {},
     "output_type": "execute_result"
    }
   ],
   "source": [
    "x"
   ]
  },
  {
   "cell_type": "markdown",
   "metadata": {},
   "source": [
    "### Idea Development 1: There can be many ways to implement efficient convolution operation. First we find all the sub matrices start and end index. And start positions for the vertical direction based on the stride and filter size given"
   ]
  },
  {
   "cell_type": "code",
   "execution_count": 4,
   "metadata": {},
   "outputs": [
    {
     "name": "stdout",
     "output_type": "stream",
     "text": [
      "Index list for horizontal direction ->[(0, 2), (1, 3), (2, 4)]\n",
      "Vertical start indexes ->[0, 1, 2]\n"
     ]
    }
   ],
   "source": [
    "filter_size=3\n",
    "stride=1\n",
    "index_list=[]\n",
    "vertical_start_pos=[]\n",
    "i=0\n",
    "j=0\n",
    "while j<x.shape[1]-1:\n",
    "    j=(i+filter_size-1)\n",
    "    index_list.append((i,j))\n",
    "    vertical_start_pos.append(i)\n",
    "    i+=stride\n",
    "print(\"Index list for horizontal direction ->{}\".format(index_list))\n",
    "print(\"Vertical start indexes ->{}\".format(vertical_start_pos))"
   ]
  },
  {
   "cell_type": "markdown",
   "metadata": {},
   "source": [
    "### Idea Development 2: Based on the found out start and end indices find all the sub matrices in the horizontal direction and vertical direction"
   ]
  },
  {
   "cell_type": "code",
   "execution_count": 5,
   "metadata": {},
   "outputs": [],
   "source": [
    "v_mat=[]\n",
    "for v_start in vertical_start_pos:\n",
    "    h_mat=[]\n",
    "    for indexes in index_list:    \n",
    "        sub_matrice=[]\n",
    "        for vertical_start in range(v_start,v_start+filter_size):    \n",
    "            sub_matrice.append(x[vertical_start,][indexes[0]:indexes[1]+1])\n",
    "        h_mat.append(np.array(sub_matrice))\n",
    "    v_mat.append(h_mat)    "
   ]
  },
  {
   "cell_type": "markdown",
   "metadata": {},
   "source": [
    "### Print all the sub matrices"
   ]
  },
  {
   "cell_type": "code",
   "execution_count": 6,
   "metadata": {},
   "outputs": [
    {
     "name": "stdout",
     "output_type": "stream",
     "text": [
      "[1. 1. 1.] [1. 1. 0.] [1. 0. 0.] \n",
      "[0. 1. 1.] [1. 1. 1.] [1. 1. 0.] \n",
      "[0. 0. 1.] [0. 1. 1.] [1. 1. 1.] \n",
      "\n",
      "[0. 1. 1.] [1. 1. 1.] [1. 1. 0.] \n",
      "[0. 0. 1.] [0. 1. 1.] [1. 1. 1.] \n",
      "[0. 0. 1.] [0. 1. 1.] [1. 1. 0.] \n",
      "\n",
      "[0. 0. 1.] [0. 1. 1.] [1. 1. 1.] \n",
      "[0. 0. 1.] [0. 1. 1.] [1. 1. 0.] \n",
      "[0. 1. 1.] [1. 1. 0.] [1. 0. 0.] \n",
      "\n"
     ]
    }
   ],
   "source": [
    "for h_mat_set in v_mat:\n",
    "    aa=h_mat_set\n",
    "    cc=''\n",
    "    for j in range(aa[0].shape[0]):\n",
    "        for i in range(len(aa)):\n",
    "            cc=cc+str(aa[i][j])+\" \"\n",
    "        cc=cc+'\\n'\n",
    "    print(cc)    "
   ]
  },
  {
   "cell_type": "markdown",
   "metadata": {},
   "source": [
    "### Define the filter[Kernel] "
   ]
  },
  {
   "cell_type": "code",
   "execution_count": 7,
   "metadata": {},
   "outputs": [],
   "source": [
    "filter_size=3\n",
    "filt=np.random.choice([-1,1,0],size=[filter_size,filter_size])"
   ]
  },
  {
   "cell_type": "markdown",
   "metadata": {},
   "source": [
    "### Show the sample convolution for the first row"
   ]
  },
  {
   "cell_type": "code",
   "execution_count": 8,
   "metadata": {},
   "outputs": [
    {
     "name": "stdout",
     "output_type": "stream",
     "text": [
      "    I/P           K           O/P\n",
      "[1. 1. 1.]   [-1  1 -1]  [-1.  1. -1.]\n",
      "[0. 1. 1.] *   [ 1  1 -1] =   [ 0.  1. -1.] -> sum(O/P)-> 0.0\n",
      "[0. 0. 1.]   [0 0 1]  [0. 0. 1.]\n",
      "\n"
     ]
    }
   ],
   "source": [
    "tmp=v_mat[0][0]\n",
    "res=tmp*filt\n",
    "c='    I/P           K           O/P\\n'\n",
    "mid_index=(len(list(range(tmp.shape[0])))-1)/2\n",
    "for i in range(tmp.shape[0]):\n",
    "    c=c+str(tmp[i])\n",
    "    if i==mid_index:\n",
    "        c=c+' *'\n",
    "    c=c+\"   \"+str(filt[i])\n",
    "    if i==mid_index:\n",
    "        c=c+' = '\n",
    "    c=c+\"  \"+str(res[i])\n",
    "    if i==mid_index:\n",
    "        c=c+' -> sum(O/P)-> ' +str(np.sum(res))\n",
    "    c=c+'\\n'    \n",
    "print(c)    "
   ]
  },
  {
   "cell_type": "markdown",
   "metadata": {},
   "source": [
    "### Show convolution operation [Just an idea to show in Bokeh UI, nicely. Not complete (:]"
   ]
  },
  {
   "cell_type": "code",
   "execution_count": 9,
   "metadata": {},
   "outputs": [
    {
     "data": {
      "image/png": "[encoded data removed]",
      "text/plain": [
       "<PIL.Image.Image image mode=RGB size=350x100 at 0x837AEF0>"
      ]
     },
     "execution_count": 9,
     "metadata": {},
     "output_type": "execute_result"
    }
   ],
   "source": [
    "from PIL import Image, ImageDraw\n",
    "img = Image.new('RGB', (350, 100), color = (73, 109, 137))\n",
    "d = ImageDraw.Draw(img)\n",
    "d.text((10,10), c, fill=(255,255,0))\n",
    "img"
   ]
  },
  {
   "cell_type": "markdown",
   "metadata": {},
   "source": [
    "### Modularize above ideas "
   ]
  },
  {
   "cell_type": "code",
   "execution_count": 10,
   "metadata": {},
   "outputs": [],
   "source": [
    "def calculate_sub_mat_indexs(mat,stride,filter_size):\n",
    "    index_list=[]\n",
    "    vertical_start_pos=[]\n",
    "    i=0\n",
    "    j=0\n",
    "    while j<mat.shape[1]-1:\n",
    "        j=(i+filter_size-1)\n",
    "        index_list.append((i,j))\n",
    "        vertical_start_pos.append(i)\n",
    "        i+=stride\n",
    "    return index_list, vertical_start_pos    "
   ]
  },
  {
   "cell_type": "code",
   "execution_count": 11,
   "metadata": {},
   "outputs": [
    {
     "name": "stdout",
     "output_type": "stream",
     "text": [
      "[1. 1. 1.] [1. 1. 0.] [1. 0. 0.] \n",
      "[0. 1. 1.] [1. 1. 1.] [1. 1. 0.] \n",
      "[0. 0. 1.] [0. 1. 1.] [1. 1. 1.] \n",
      "\n",
      "[0. 1. 1.] [1. 1. 1.] [1. 1. 0.] \n",
      "[0. 0. 1.] [0. 1. 1.] [1. 1. 1.] \n",
      "[0. 0. 1.] [0. 1. 1.] [1. 1. 0.] \n",
      "\n",
      "[0. 0. 1.] [0. 1. 1.] [1. 1. 1.] \n",
      "[0. 0. 1.] [0. 1. 1.] [1. 1. 0.] \n",
      "[0. 1. 1.] [1. 1. 0.] [1. 0. 0.] \n",
      "\n"
     ]
    }
   ],
   "source": [
    "def find_submatrices(mat,index_list, vertical_start_pos,filter_size):\n",
    "    v_mat=[]\n",
    "    for v_start in vertical_start_pos:\n",
    "        h_mat=[]\n",
    "        for indexes in index_list:    \n",
    "            sub_matrice=[]\n",
    "            for vertical_start in range(v_start,v_start+filter_size):    \n",
    "                sub_matrice.append(mat[vertical_start,][indexes[0]:indexes[1]+1])\n",
    "            h_mat.append(np.array(sub_matrice))\n",
    "        v_mat.append(h_mat)    \n",
    "    return v_mat    \n",
    "\n",
    "def print_sub_mats(v_mat):\n",
    "    for h_mat_set in v_mat:\n",
    "        aa=h_mat_set\n",
    "        cc=''\n",
    "        for j in range(aa[0].shape[0]):\n",
    "            for i in range(len(aa)):\n",
    "                cc=cc+str(aa[i][j])+\" \"\n",
    "            cc=cc+'\\n'\n",
    "        print(cc)    \n",
    "index_list, vertical_start_pos =calculate_sub_mat_indexs(x,1,3)\n",
    "v_mat=find_submatrices(x,index_list, vertical_start_pos,3)\n",
    "print_sub_mats(v_mat)"
   ]
  },
  {
   "cell_type": "markdown",
   "metadata": {},
   "source": [
    "### Function to perform convolution"
   ]
  },
  {
   "cell_type": "code",
   "execution_count": 12,
   "metadata": {},
   "outputs": [],
   "source": [
    "def show_convolve_oper(v_mat,filt,verbose=True):\n",
    "    convolve_res_ver=[]\n",
    "    mat_index=0\n",
    "    for h_mats in v_mat:\n",
    "        mat_index+=1\n",
    "        if verbose:\n",
    "            print(\"Showing Convolution for horizontal stack {}\".format(mat_index))\n",
    "        convolve_res_hor=[]\n",
    "        for h_mat in h_mats:\n",
    "            tmp=h_mat\n",
    "            res=tmp*filt\n",
    "            convolve_res_hor.append(np.sum(res))\n",
    "            c='    I/P           K           O/P\\n'\n",
    "            mid_index=(len(list(range(tmp.shape[0])))-1)/2\n",
    "            for i in range(tmp.shape[0]):\n",
    "                c=c+str(tmp[i])\n",
    "                if i==mid_index:\n",
    "                    c=c+' *'\n",
    "                c=c+\"   \"+str(filt[i])\n",
    "                if i==mid_index:\n",
    "                    c=c+' = '\n",
    "                c=c+\"  \"+str(res[i])\n",
    "                if i==mid_index:\n",
    "                    c=c+' -> sum(O/P)-> ' +str(np.sum(res))\n",
    "                c=c+'\\n'\n",
    "    #     mat_index+=1\n",
    "            if verbose:\n",
    "                print(c)\n",
    "        convolve_res_ver.append(convolve_res_hor)\n",
    "    return np.array(convolve_res_ver)    "
   ]
  },
  {
   "cell_type": "code",
   "execution_count": 13,
   "metadata": {},
   "outputs": [],
   "source": [
    "convolve_res_ver=show_convolve_oper(v_mat,filt,verbose=False)"
   ]
  },
  {
   "cell_type": "code",
   "execution_count": 14,
   "metadata": {},
   "outputs": [
    {
     "data": {
      "text/plain": [
       "array([[ 0.,  2.,  2.],\n",
       "       [ 0.,  0.,  1.],\n",
       "       [-1.,  0.,  1.]])"
      ]
     },
     "execution_count": 14,
     "metadata": {},
     "output_type": "execute_result"
    }
   ],
   "source": [
    "convolve_res_ver"
   ]
  }
 ],
 "metadata": {
  "kernelspec": {
   "display_name": "Python 3",
   "language": "python",
   "name": "python3"
  },
  "language_info": {
   "codemirror_mode": {
    "name": "ipython",
    "version": 3
   },
   "file_extension": ".py",
   "mimetype": "text/x-python",
   "name": "python",
   "nbconvert_exporter": "python",
   "pygments_lexer": "ipython3",
   "version": "3.6.8"
  }
 },
 "nbformat": 4,
 "nbformat_minor": 2
}
