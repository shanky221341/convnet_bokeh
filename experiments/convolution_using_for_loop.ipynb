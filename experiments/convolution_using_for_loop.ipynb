{
 "cells": [
  {
   "cell_type": "code",
   "execution_count": 9,
   "metadata": {},
   "outputs": [],
   "source": [
    "import numpy as np\n",
    "from scipy import signal"
   ]
  },
  {
   "cell_type": "code",
   "execution_count": 2,
   "metadata": {},
   "outputs": [],
   "source": [
    "x = np.array([[1, 1, 1, 0, 0],\n",
    "                  [0, 1, 1, 1, 0],\n",
    "                  [0, 0, 1, 1, 1],\n",
    "                  [0, 0, 1, 1, 0],\n",
    "                  [0, 1, 1, 0, 0]],\n",
    "                 dtype='float')"
   ]
  },
  {
   "cell_type": "code",
   "execution_count": 13,
   "metadata": {},
   "outputs": [
    {
     "data": {
      "text/plain": [
       "array([[1., 1., 1., 0., 0.],\n",
       "       [0., 1., 1., 1., 0.],\n",
       "       [0., 0., 1., 1., 1.],\n",
       "       [0., 0., 1., 1., 0.],\n",
       "       [0., 1., 1., 0., 0.]])"
      ]
     },
     "execution_count": 13,
     "metadata": {},
     "output_type": "execute_result"
    }
   ],
   "source": [
    "x"
   ]
  },
  {
   "cell_type": "code",
   "execution_count": 420,
   "metadata": {},
   "outputs": [
    {
     "data": {
      "text/plain": [
       "array([[ 1, -1, -1],\n",
       "       [-1,  0,  0],\n",
       "       [ 1, -1,  1]])"
      ]
     },
     "execution_count": 420,
     "metadata": {},
     "output_type": "execute_result"
    }
   ],
   "source": [
    "filter_size=3\n",
    "np.random.choice([-1,1,0],size=[filter_size,filter_size])"
   ]
  },
  {
   "cell_type": "code",
   "execution_count": 299,
   "metadata": {},
   "outputs": [],
   "source": [
    "stride=1\n",
    "filter_size=3"
   ]
  },
  {
   "cell_type": "code",
   "execution_count": 384,
   "metadata": {},
   "outputs": [],
   "source": [
    "def calculate_sub_mat_indexs(mat,stride,filter_size):\n",
    "    index_list=[]\n",
    "    vertical_start_pos=[]\n",
    "    i=0\n",
    "    j=0\n",
    "    while j<mat.shape[1]-1:\n",
    "        j=(i+filter_size-1)\n",
    "        index_list.append((i,j))\n",
    "        vertical_start_pos.append(i)\n",
    "        i+=stride\n",
    "    return index_list, vertical_start_pos    "
   ]
  },
  {
   "cell_type": "code",
   "execution_count": 394,
   "metadata": {},
   "outputs": [
    {
     "name": "stdout",
     "output_type": "stream",
     "text": [
      "[1. 1. 1.] [1. 1. 0.] [1. 0. 0.] \n",
      "[0. 1. 1.] [1. 1. 1.] [1. 1. 0.] \n",
      "[0. 0. 1.] [0. 1. 1.] [1. 1. 1.] \n",
      "\n",
      "[0. 1. 1.] [1. 1. 1.] [1. 1. 0.] \n",
      "[0. 0. 1.] [0. 1. 1.] [1. 1. 1.] \n",
      "[0. 0. 1.] [0. 1. 1.] [1. 1. 0.] \n",
      "\n",
      "[0. 0. 1.] [0. 1. 1.] [1. 1. 1.] \n",
      "[0. 0. 1.] [0. 1. 1.] [1. 1. 0.] \n",
      "[0. 1. 1.] [1. 1. 0.] [1. 0. 0.] \n",
      "\n"
     ]
    }
   ],
   "source": [
    "def find_submatrices(mat,index_list, vertical_start_pos,filter_size):\n",
    "    v_mat=[]\n",
    "    for v_start in vertical_start_pos:\n",
    "        h_mat=[]\n",
    "        for indexes in index_list:    \n",
    "            sub_matrice=[]\n",
    "            for vertical_start in range(v_start,v_start+filter_size):    \n",
    "                sub_matrice.append(mat[vertical_start,][indexes[0]:indexes[1]+1])\n",
    "            h_mat.append(np.array(sub_matrice))\n",
    "        v_mat.append(h_mat)    \n",
    "    return v_mat    \n",
    "\n",
    "def print_sub_mats(v_mat):\n",
    "    for h_mat_set in v_mat:\n",
    "        aa=h_mat_set\n",
    "        cc=''\n",
    "        for j in range(aa[0].shape[0]):\n",
    "            for i in range(len(aa)):\n",
    "                cc=cc+str(aa[i][j])+\" \"\n",
    "            cc=cc+'\\n'\n",
    "        print(cc)    \n",
    "index_list, vertical_start_pos =calculate_sub_mat_indexs(x,1,3)\n",
    "v_mat=find_submatrices(x,index_list, vertical_start_pos,3)\n",
    "print_sub_mats(v_mat)"
   ]
  },
  {
   "cell_type": "code",
   "execution_count": 429,
   "metadata": {},
   "outputs": [
    {
     "data": {
      "text/plain": [
       "array([[-1.,  0.,  0.],\n",
       "       [ 0.,  1.,  1.],\n",
       "       [-0.,  0., -1.]])"
      ]
     },
     "execution_count": 429,
     "metadata": {},
     "output_type": "execute_result"
    }
   ],
   "source": [
    "filt=np.random.choice([-1,1,0],size=[filter_size,filter_size])\n",
    "print (filt)\n",
    "\n",
    "v_mat[0][1] *filt"
   ]
  },
  {
   "cell_type": "code",
   "execution_count": 433,
   "metadata": {},
   "outputs": [
    {
     "name": "stdout",
     "output_type": "stream",
     "text": [
      "[1. 1. 1.] [1. 1. 0.] [1. 0. 0.] \n",
      "[0. 1. 1.] [1. 1. 1.] [1. 1. 0.] \n",
      "[0. 0. 1.] [0. 1. 1.] [1. 1. 1.] \n",
      "\n",
      "[0. 1. 1.] [1. 1. 1.] [1. 1. 0.] \n",
      "[0. 0. 1.] [0. 1. 1.] [1. 1. 1.] \n",
      "[0. 0. 1.] [0. 1. 1.] [1. 1. 0.] \n",
      "\n",
      "[0. 0. 1.] [0. 1. 1.] [1. 1. 1.] \n",
      "[0. 0. 1.] [0. 1. 1.] [1. 1. 0.] \n",
      "[0. 1. 1.] [1. 1. 0.] [1. 0. 0.] \n",
      "\n"
     ]
    }
   ],
   "source": [
    "for h_mat_set in v_mat:\n",
    "    aa=h_mat_set\n",
    "    cc=''\n",
    "    for j in range(aa[0].shape[0]):\n",
    "        for i in range(len(aa)):\n",
    "            cc=cc+str(aa[i][j])+\" \"\n",
    "        cc=cc+'\\n'\n",
    "    print(cc)    "
   ]
  },
  {
   "cell_type": "code",
   "execution_count": 441,
   "metadata": {},
   "outputs": [
    {
     "data": {
      "text/plain": [
       "array([[1., 1., 1.],\n",
       "       [0., 1., 1.],\n",
       "       [0., 0., 1.]])"
      ]
     },
     "execution_count": 441,
     "metadata": {},
     "output_type": "execute_result"
    }
   ],
   "source": [
    "tmp=v_mat[0][0]\n",
    "tmp"
   ]
  },
  {
   "cell_type": "code",
   "execution_count": 495,
   "metadata": {},
   "outputs": [],
   "source": [
    "res=tmp*filt"
   ]
  },
  {
   "cell_type": "code",
   "execution_count": 505,
   "metadata": {},
   "outputs": [
    {
     "data": {
      "text/plain": [
       "array([[-1.,  0.,  0.],\n",
       "       [ 0.,  1.,  1.],\n",
       "       [-0.,  0., -1.]])"
      ]
     },
     "execution_count": 505,
     "metadata": {},
     "output_type": "execute_result"
    }
   ],
   "source": [
    "res"
   ]
  },
  {
   "cell_type": "code",
   "execution_count": 556,
   "metadata": {},
   "outputs": [
    {
     "data": {
      "text/plain": [
       "array([[ 0.,  0., -2.],\n",
       "       [ 0.,  0.,  0.],\n",
       "       [ 0.,  1., -1.]])"
      ]
     },
     "execution_count": 556,
     "metadata": {},
     "output_type": "execute_result"
    }
   ],
   "source": [
    "np.array(convolve_res_ver)"
   ]
  },
  {
   "cell_type": "code",
   "execution_count": 560,
   "metadata": {},
   "outputs": [
    {
     "name": "stdout",
     "output_type": "stream",
     "text": [
      "[array([[1., 1., 1.],\n",
      "       [0., 1., 1.],\n",
      "       [0., 0., 1.]]), array([[1., 1., 0.],\n",
      "       [1., 1., 1.],\n",
      "       [0., 1., 1.]]), array([[1., 0., 0.],\n",
      "       [1., 1., 0.],\n",
      "       [1., 1., 1.]])]\n"
     ]
    }
   ],
   "source": [
    "print(v_mat[0])"
   ]
  },
  {
   "cell_type": "code",
   "execution_count": 565,
   "metadata": {},
   "outputs": [],
   "source": [
    "def show_convolve_oper(v_mat,filt):\n",
    "    convolve_res_ver=[]\n",
    "    mat_index=0\n",
    "    for h_mats in v_mat:\n",
    "        mat_index+=1\n",
    "        print(\"Showing Convolution for horizontal stack {}\".format(mat_index))\n",
    "        convolve_res_hor=[]\n",
    "        for h_mat in h_mats:\n",
    "            tmp=h_mat\n",
    "            res=tmp*filt\n",
    "            convolve_res_hor.append(np.sum(res))\n",
    "            c='    I/P           K           O/P\\n'\n",
    "            mid_index=(len(list(range(tmp.shape[0])))-1)/2\n",
    "            for i in range(tmp.shape[0]):\n",
    "                c=c+str(tmp[i])\n",
    "                if i==mid_index:\n",
    "                    c=c+' *'\n",
    "                c=c+\"   \"+str(filt[i])\n",
    "                if i==mid_index:\n",
    "                    c=c+' = '\n",
    "                c=c+\"  \"+str(res[i])\n",
    "                if i==mid_index:\n",
    "                    c=c+' -> sum(O/P)-> ' +str(np.sum(res))\n",
    "                c=c+'\\n'\n",
    "    #     mat_index+=1        \n",
    "            print(c)\n",
    "        convolve_res_ver.append(convolve_res_hor)\n",
    "    return np.array(convolve_res_ver)    "
   ]
  },
  {
   "cell_type": "code",
   "execution_count": 566,
   "metadata": {},
   "outputs": [
    {
     "name": "stdout",
     "output_type": "stream",
     "text": [
      "Showing Convolution for horizontal stack 1\n",
      "    I/P           K           O/P\n",
      "[1. 1. 1.]   [-1  0  0]  [-1.  0.  0.]\n",
      "[0. 1. 1.] *   [0 1 1] =   [0. 1. 1.] -> sum(O/P)-> 0.0\n",
      "[0. 0. 1.]   [-1  0 -1]  [-0.  0. -1.]\n",
      "\n",
      "    I/P           K           O/P\n",
      "[1. 1. 0.]   [-1  0  0]  [-1.  0.  0.]\n",
      "[1. 1. 1.] *   [0 1 1] =   [0. 1. 1.] -> sum(O/P)-> 0.0\n",
      "[0. 1. 1.]   [-1  0 -1]  [-0.  0. -1.]\n",
      "\n",
      "    I/P           K           O/P\n",
      "[1. 0. 0.]   [-1  0  0]  [-1.  0.  0.]\n",
      "[1. 1. 0.] *   [0 1 1] =   [0. 1. 0.] -> sum(O/P)-> -2.0\n",
      "[1. 1. 1.]   [-1  0 -1]  [-1.  0. -1.]\n",
      "\n",
      "Showing Convolution for horizontal stack 2\n",
      "    I/P           K           O/P\n",
      "[0. 1. 1.]   [-1  0  0]  [-0.  0.  0.]\n",
      "[0. 0. 1.] *   [0 1 1] =   [0. 0. 1.] -> sum(O/P)-> 0.0\n",
      "[0. 0. 1.]   [-1  0 -1]  [-0.  0. -1.]\n",
      "\n",
      "    I/P           K           O/P\n",
      "[1. 1. 1.]   [-1  0  0]  [-1.  0.  0.]\n",
      "[0. 1. 1.] *   [0 1 1] =   [0. 1. 1.] -> sum(O/P)-> 0.0\n",
      "[0. 1. 1.]   [-1  0 -1]  [-0.  0. -1.]\n",
      "\n",
      "    I/P           K           O/P\n",
      "[1. 1. 0.]   [-1  0  0]  [-1.  0.  0.]\n",
      "[1. 1. 1.] *   [0 1 1] =   [0. 1. 1.] -> sum(O/P)-> 0.0\n",
      "[1. 1. 0.]   [-1  0 -1]  [-1.  0. -0.]\n",
      "\n",
      "Showing Convolution for horizontal stack 3\n",
      "    I/P           K           O/P\n",
      "[0. 0. 1.]   [-1  0  0]  [-0.  0.  0.]\n",
      "[0. 0. 1.] *   [0 1 1] =   [0. 0. 1.] -> sum(O/P)-> 0.0\n",
      "[0. 1. 1.]   [-1  0 -1]  [-0.  0. -1.]\n",
      "\n",
      "    I/P           K           O/P\n",
      "[0. 1. 1.]   [-1  0  0]  [-0.  0.  0.]\n",
      "[0. 1. 1.] *   [0 1 1] =   [0. 1. 1.] -> sum(O/P)-> 1.0\n",
      "[1. 1. 0.]   [-1  0 -1]  [-1.  0. -0.]\n",
      "\n",
      "    I/P           K           O/P\n",
      "[1. 1. 1.]   [-1  0  0]  [-1.  0.  0.]\n",
      "[1. 1. 0.] *   [0 1 1] =   [0. 1. 0.] -> sum(O/P)-> -1.0\n",
      "[1. 0. 0.]   [-1  0 -1]  [-1.  0. -0.]\n",
      "\n"
     ]
    }
   ],
   "source": [
    "convolve_res_ver=show_convolve_oper(v_mat,filt)"
   ]
  },
  {
   "cell_type": "code",
   "execution_count": 567,
   "metadata": {},
   "outputs": [
    {
     "data": {
      "text/plain": [
       "array([[ 0.,  0., -2.],\n",
       "       [ 0.,  0.,  0.],\n",
       "       [ 0.,  1., -1.]])"
      ]
     },
     "execution_count": 567,
     "metadata": {},
     "output_type": "execute_result"
    }
   ],
   "source": [
    "convolve_res_ver"
   ]
  },
  {
   "cell_type": "code",
   "execution_count": 516,
   "metadata": {},
   "outputs": [
    {
     "name": "stdout",
     "output_type": "stream",
     "text": [
      "    I/P           K           O/P\n",
      "[1. 1. 1.]   [-1  0  0]  [-1.  0.  0.]\n",
      "[0. 1. 1.] *   [0 1 1] =   [0. 1. 1.] -> sum(O/P)-> 0.0\n",
      "[0. 0. 1.]   [-1  0 -1]  [-0.  0. -1.]\n",
      "\n"
     ]
    }
   ],
   "source": [
    "tmp=v_mat[0][0]\n",
    "res=tmp*filt\n",
    "c='    I/P           K           O/P\\n'\n",
    "mid_index=(len(list(range(tmp.shape[0])))-1)/2\n",
    "for i in range(tmp.shape[0]):\n",
    "    c=c+str(tmp[i])\n",
    "    if i==mid_index:\n",
    "        c=c+' *'\n",
    "    c=c+\"   \"+str(filt[i])\n",
    "    if i==mid_index:\n",
    "        c=c+' = '\n",
    "    c=c+\"  \"+str(res[i])\n",
    "    if i==mid_index:\n",
    "        c=c+' -> sum(O/P)-> ' +str(np.sum(res))\n",
    "    c=c+'\\n'    \n",
    "print(c)    "
   ]
  },
  {
   "cell_type": "code",
   "execution_count": 508,
   "metadata": {},
   "outputs": [
    {
     "name": "stdout",
     "output_type": "stream",
     "text": [
      "    I/P           K           O/P\n",
      "[1. 1. 1.]   [-1  0  0]  [-1.  0.  0.]\n",
      "[0. 1. 1.] *   [0 1 1] =   [0. 1. 1.]\n",
      "[0. 0. 1.]   [-1  0 -1]  [-0.  0. -1.]\n",
      "    I/P           K           O/P\n",
      "[1. 1. 1.]   [-1  0  0]  [-1.  0.  0.]\n",
      "[0. 1. 1.] *   [0 1 1] =   [0. 1. 1.]\n",
      "[0. 0. 1.]   [-1  0 -1]  [-0.  0. -1.]\n",
      "\n"
     ]
    }
   ],
   "source": []
  },
  {
   "cell_type": "code",
   "execution_count": 517,
   "metadata": {},
   "outputs": [],
   "source": [
    "from PIL import Image, ImageDraw"
   ]
  },
  {
   "cell_type": "code",
   "execution_count": 545,
   "metadata": {},
   "outputs": [
    {
     "data": {
      "image/png": "[encoded data removed]",
      "text/plain": [
       "<PIL.Image.Image image mode=RGB size=350x100 at 0x5162E10>"
      ]
     },
     "execution_count": 545,
     "metadata": {},
     "output_type": "execute_result"
    }
   ],
   "source": [
    "img = Image.new('RGB', (350, 100), color = (73, 109, 137))\n",
    "d = ImageDraw.Draw(img)\n",
    "d.text((10,10), c, fill=(255,255,0))\n",
    "img"
   ]
  },
  {
   "cell_type": "code",
   "execution_count": 547,
   "metadata": {},
   "outputs": [
    {
     "data": {
      "text/plain": [
       "PIL.Image.Image"
      ]
     },
     "execution_count": 547,
     "metadata": {},
     "output_type": "execute_result"
    }
   ],
   "source": [
    "type(img\n",
    "    )"
   ]
  },
  {
   "cell_type": "code",
   "execution_count": 469,
   "metadata": {},
   "outputs": [
    {
     "data": {
      "text/plain": [
       "array([[-1,  0,  0],\n",
       "       [ 0,  1,  1],\n",
       "       [-1,  0, -1]])"
      ]
     },
     "execution_count": 469,
     "metadata": {},
     "output_type": "execute_result"
    }
   ],
   "source": [
    "filt"
   ]
  },
  {
   "cell_type": "code",
   "execution_count": 330,
   "metadata": {},
   "outputs": [
    {
     "data": {
      "text/plain": [
       "[0, 2]"
      ]
     },
     "execution_count": 330,
     "metadata": {},
     "output_type": "execute_result"
    }
   ],
   "source": [
    "filter_size=3\n",
    "stride=2\n",
    "index_list=[]\n",
    "vertical_start_pos=[]\n",
    "i=0\n",
    "j=0\n",
    "while j<x.shape[1]-1:\n",
    "    j=(i+filter_size-1)\n",
    "    index_list.append((i,j))\n",
    "    vertical_start_pos.append(i)\n",
    "    i+=stride\n",
    "vertical_start_pos    "
   ]
  },
  {
   "cell_type": "code",
   "execution_count": 334,
   "metadata": {},
   "outputs": [
    {
     "data": {
      "text/plain": [
       "range(0, 2)"
      ]
     },
     "execution_count": 334,
     "metadata": {},
     "output_type": "execute_result"
    }
   ],
   "source": [
    "range(vertical_start_pos[0],vertical_start_pos[-1])"
   ]
  },
  {
   "cell_type": "code",
   "execution_count": 305,
   "metadata": {},
   "outputs": [
    {
     "data": {
      "text/plain": [
       "[0, 1, 2]"
      ]
     },
     "execution_count": 305,
     "metadata": {},
     "output_type": "execute_result"
    }
   ],
   "source": [
    "vertical_start_pos"
   ]
  },
  {
   "cell_type": "code",
   "execution_count": 285,
   "metadata": {},
   "outputs": [],
   "source": [
    "index_list, vertical_start_pos =calculate_sub_mat_indexs(x,stride,filter_size)"
   ]
  },
  {
   "cell_type": "code",
   "execution_count": 290,
   "metadata": {},
   "outputs": [],
   "source": [
    "v_mat=find_submatrices(x,index_list, vertical_start_pos)"
   ]
  },
  {
   "cell_type": "code",
   "execution_count": 297,
   "metadata": {},
   "outputs": [
    {
     "data": {
      "text/plain": [
       "array([1., 1., 1., 0., 0.])"
      ]
     },
     "execution_count": 297,
     "metadata": {},
     "output_type": "execute_result"
    }
   ],
   "source": [
    "x[0,][0:4+1]"
   ]
  },
  {
   "cell_type": "code",
   "execution_count": 293,
   "metadata": {},
   "outputs": [
    {
     "data": {
      "text/plain": [
       "[(0, 4)]"
      ]
     },
     "execution_count": 293,
     "metadata": {},
     "output_type": "execute_result"
    }
   ],
   "source": [
    "index_list"
   ]
  },
  {
   "cell_type": "code",
   "execution_count": 319,
   "metadata": {},
   "outputs": [
    {
     "name": "stdout",
     "output_type": "stream",
     "text": [
      "0 2\n",
      "1 3\n",
      "2 4\n"
     ]
    }
   ],
   "source": [
    "index_list=[]\n",
    "vertical_start_pos=[]\n",
    "for i in range(x.shape[1]):\n",
    "    j=(i+filter_size-1)\n",
    "    print(i,j)\n",
    "    index_list.append((i,j))\n",
    "    vertical_start_pos.append(i)\n",
    "    if j==x.shape[1]-1:\n",
    "        break    "
   ]
  },
  {
   "cell_type": "code",
   "execution_count": 320,
   "metadata": {},
   "outputs": [
    {
     "data": {
      "text/plain": [
       "[0, 1, 2]"
      ]
     },
     "execution_count": 320,
     "metadata": {},
     "output_type": "execute_result"
    }
   ],
   "source": [
    "vertical_start_pos"
   ]
  },
  {
   "cell_type": "code",
   "execution_count": 336,
   "metadata": {},
   "outputs": [
    {
     "data": {
      "text/plain": [
       "[[array([[1., 1., 1.],\n",
       "         [0., 1., 1.]]), array([[1., 0., 0.],\n",
       "         [1., 1., 0.]])], [array([[0., 0., 1.],\n",
       "         [0., 0., 1.]]), array([[1., 1., 1.],\n",
       "         [1., 1., 0.]])]]"
      ]
     },
     "execution_count": 336,
     "metadata": {},
     "output_type": "execute_result"
    }
   ],
   "source": [
    "v_mat"
   ]
  },
  {
   "cell_type": "code",
   "execution_count": 344,
   "metadata": {},
   "outputs": [],
   "source": [
    "vertical_start_pos1=vertical_start_pos"
   ]
  },
  {
   "cell_type": "code",
   "execution_count": 354,
   "metadata": {},
   "outputs": [
    {
     "data": {
      "text/plain": [
       "[0, 1]"
      ]
     },
     "execution_count": 354,
     "metadata": {},
     "output_type": "execute_result"
    }
   ],
   "source": [
    "list(range(vertical_start_pos1[0],vertical_start_pos1[-1]))"
   ]
  },
  {
   "cell_type": "code",
   "execution_count": 351,
   "metadata": {},
   "outputs": [],
   "source": [
    "sub_matrice=[]\n",
    "for vertical_start in range(vertical_start_pos1[0],vertical_start_pos1[-1]):    \n",
    "    sub_matrice.append(x[vertical_start,][indexes[0]:indexes[1]+1])"
   ]
  },
  {
   "cell_type": "code",
   "execution_count": 352,
   "metadata": {},
   "outputs": [
    {
     "data": {
      "text/plain": [
       "[array([1., 1., 1.]), array([0., 1., 1.])]"
      ]
     },
     "execution_count": 352,
     "metadata": {},
     "output_type": "execute_result"
    }
   ],
   "source": [
    "sub_matrice"
   ]
  },
  {
   "cell_type": "code",
   "execution_count": 353,
   "metadata": {},
   "outputs": [
    {
     "data": {
      "text/plain": [
       "array([[1., 1., 1., 0., 0.],\n",
       "       [0., 1., 1., 1., 0.],\n",
       "       [0., 0., 1., 1., 1.],\n",
       "       [0., 0., 1., 1., 0.],\n",
       "       [0., 1., 1., 0., 0.]])"
      ]
     },
     "execution_count": 353,
     "metadata": {},
     "output_type": "execute_result"
    }
   ],
   "source": [
    "x"
   ]
  },
  {
   "cell_type": "code",
   "execution_count": 350,
   "metadata": {},
   "outputs": [],
   "source": [
    "indexes=index_list[0]"
   ]
  },
  {
   "cell_type": "code",
   "execution_count": 362,
   "metadata": {},
   "outputs": [
    {
     "data": {
      "text/plain": [
       "[0, 2]"
      ]
     },
     "execution_count": 362,
     "metadata": {},
     "output_type": "execute_result"
    }
   ],
   "source": [
    "vertical_start_pos"
   ]
  },
  {
   "cell_type": "code",
   "execution_count": 377,
   "metadata": {},
   "outputs": [],
   "source": [
    "filter_size=5"
   ]
  },
  {
   "cell_type": "code",
   "execution_count": 378,
   "metadata": {},
   "outputs": [],
   "source": [
    "v_mat=[]\n",
    "for v_start in vertical_start_pos:\n",
    "    h_mat=[]\n",
    "    for indexes in index_list:    \n",
    "        sub_matrice=[]\n",
    "        for vertical_start in range(v_start,v_start+filter_size):    \n",
    "            sub_matrice.append(x[vertical_start,][indexes[0]:indexes[1]+1])\n",
    "        h_mat.append(np.array(sub_matrice))\n",
    "    v_mat.append(h_mat)    "
   ]
  },
  {
   "cell_type": "code",
   "execution_count": 379,
   "metadata": {},
   "outputs": [
    {
     "data": {
      "text/plain": [
       "[[array([[1., 1., 1., 0., 0.],\n",
       "         [0., 1., 1., 1., 0.],\n",
       "         [0., 0., 1., 1., 1.],\n",
       "         [0., 0., 1., 1., 0.],\n",
       "         [0., 1., 1., 0., 0.]])]]"
      ]
     },
     "execution_count": 379,
     "metadata": {},
     "output_type": "execute_result"
    }
   ],
   "source": [
    "v_mat"
   ]
  },
  {
   "cell_type": "code",
   "execution_count": 341,
   "metadata": {},
   "outputs": [
    {
     "data": {
      "text/plain": [
       "array([[1., 1., 1., 0., 0.],\n",
       "       [0., 1., 1., 1., 0.],\n",
       "       [0., 0., 1., 1., 1.],\n",
       "       [0., 0., 1., 1., 0.],\n",
       "       [0., 1., 1., 0., 0.]])"
      ]
     },
     "execution_count": 341,
     "metadata": {},
     "output_type": "execute_result"
    }
   ],
   "source": [
    "x"
   ]
  },
  {
   "cell_type": "code",
   "execution_count": 356,
   "metadata": {},
   "outputs": [
    {
     "data": {
      "text/plain": [
       "[[array([[1., 1., 1.],\n",
       "         [0., 1., 1.],\n",
       "         [0., 0., 1.]]), array([[1., 0., 0.],\n",
       "         [1., 1., 0.],\n",
       "         [1., 1., 1.]])], [array([[0., 0., 1.],\n",
       "         [0., 0., 1.],\n",
       "         [0., 1., 1.]]), array([[1., 1., 1.],\n",
       "         [1., 1., 0.],\n",
       "         [1., 0., 0.]])]]"
      ]
     },
     "execution_count": 356,
     "metadata": {},
     "output_type": "execute_result"
    }
   ],
   "source": [
    "v_mat"
   ]
  },
  {
   "cell_type": "code",
   "execution_count": 339,
   "metadata": {},
   "outputs": [
    {
     "data": {
      "text/plain": [
       "[(0, 2), (2, 4)]"
      ]
     },
     "execution_count": 339,
     "metadata": {},
     "output_type": "execute_result"
    }
   ],
   "source": [
    "index_list"
   ]
  },
  {
   "cell_type": "code",
   "execution_count": 338,
   "metadata": {},
   "outputs": [
    {
     "data": {
      "text/plain": [
       "[0, 2]"
      ]
     },
     "execution_count": 338,
     "metadata": {},
     "output_type": "execute_result"
    }
   ],
   "source": [
    "vertical_start_pos"
   ]
  },
  {
   "cell_type": "code",
   "execution_count": 316,
   "metadata": {},
   "outputs": [
    {
     "data": {
      "text/plain": [
       "[0, 2]"
      ]
     },
     "execution_count": 316,
     "metadata": {},
     "output_type": "execute_result"
    }
   ],
   "source": [
    "vertical_start_pos1"
   ]
  },
  {
   "cell_type": "code",
   "execution_count": 317,
   "metadata": {},
   "outputs": [
    {
     "data": {
      "text/plain": [
       "[(0, 2), (2, 4)]"
      ]
     },
     "execution_count": 317,
     "metadata": {},
     "output_type": "execute_result"
    }
   ],
   "source": [
    "index_list"
   ]
  },
  {
   "cell_type": "code",
   "execution_count": 242,
   "metadata": {},
   "outputs": [],
   "source": [
    "def print_sub_mats(v_mat):\n",
    "    for h_mat_set in v_mat:\n",
    "        aa=h_mat_set\n",
    "        cc=''\n",
    "        for j in range(aa[0].shape[0]):\n",
    "            for i in range(len(aa)):\n",
    "                cc=cc+str(aa[i][j])+\" \"\n",
    "            cc=cc+'\\n'\n",
    "        print(cc)    "
   ]
  },
  {
   "cell_type": "code",
   "execution_count": 380,
   "metadata": {},
   "outputs": [
    {
     "name": "stdout",
     "output_type": "stream",
     "text": [
      "[1. 1. 1. 0. 0.] \n",
      "[0. 1. 1. 1. 0.] \n",
      "[0. 0. 1. 1. 1.] \n",
      "[0. 0. 1. 1. 0.] \n",
      "[0. 1. 1. 0. 0.] \n",
      "\n"
     ]
    }
   ],
   "source": [
    "print_sub_mats(v_mat)"
   ]
  },
  {
   "cell_type": "code",
   "execution_count": 244,
   "metadata": {},
   "outputs": [
    {
     "data": {
      "text/plain": [
       "array([[1., 1., 1., 0., 0.],\n",
       "       [0., 1., 1., 1., 0.],\n",
       "       [0., 0., 1., 1., 1.],\n",
       "       [0., 0., 1., 1., 0.],\n",
       "       [0., 1., 1., 0., 0.]])"
      ]
     },
     "execution_count": 244,
     "metadata": {},
     "output_type": "execute_result"
    }
   ],
   "source": [
    "x"
   ]
  },
  {
   "cell_type": "code",
   "execution_count": 239,
   "metadata": {},
   "outputs": [
    {
     "data": {
      "text/plain": [
       "array([[1., 1., 1., 0., 0.],\n",
       "       [0., 1., 1., 1., 0.],\n",
       "       [0., 0., 1., 1., 1.],\n",
       "       [0., 0., 1., 1., 0.],\n",
       "       [0., 1., 1., 0., 0.]])"
      ]
     },
     "execution_count": 239,
     "metadata": {},
     "output_type": "execute_result"
    }
   ],
   "source": [
    "x"
   ]
  },
  {
   "cell_type": "code",
   "execution_count": 137,
   "metadata": {},
   "outputs": [
    {
     "data": {
      "text/plain": [
       "array([[1., 1., 1.],\n",
       "       [0., 1., 1.],\n",
       "       [0., 0., 1.]])"
      ]
     },
     "execution_count": 137,
     "metadata": {},
     "output_type": "execute_result"
    }
   ],
   "source": [
    "np.array(sub_matrice)"
   ]
  },
  {
   "cell_type": "code",
   "execution_count": 129,
   "metadata": {},
   "outputs": [
    {
     "data": {
      "text/plain": [
       "array([[1., 1., 1.],\n",
       "       [0., 1., 1.],\n",
       "       [0., 0., 1.]])"
      ]
     },
     "execution_count": 129,
     "metadata": {},
     "output_type": "execute_result"
    }
   ],
   "source": [
    "np.array([x[0,][0:2+1],x[1,][0:2+1],x[2,][0:2+1]])"
   ]
  },
  {
   "cell_type": "code",
   "execution_count": 67,
   "metadata": {},
   "outputs": [],
   "source": [
    "aa=[]\n",
    "for indexes in index_list:    \n",
    "    aa.append(np.array([x[0,][indexes[0]:indexes[1]+1],x[1,][indexes[0]:indexes[1]+1],x[2,][indexes[0]:indexes[1]+1]]))\n",
    "A=np.array([x[0,][0:2+1],x[1,][0:2+1],x[2,][0:2+1]])\n",
    "B=np.array([x[0,][1:3+1],x[1,][1:3+1],x[2,][1:3+1]])\n",
    "C=np.array([x[0,][2:4+1],x[1,][2:4+1],x[2,][2:4+1]])"
   ]
  },
  {
   "cell_type": "code",
   "execution_count": 312,
   "metadata": {},
   "outputs": [
    {
     "data": {
      "text/plain": [
       "[(0, 2), (2, 4)]"
      ]
     },
     "execution_count": 312,
     "metadata": {},
     "output_type": "execute_result"
    }
   ],
   "source": [
    "index_list"
   ]
  },
  {
   "cell_type": "code",
   "execution_count": 153,
   "metadata": {},
   "outputs": [],
   "source": [
    "z=zip()\n",
    "for i in range(len(aa)):\n",
    "    z=zip(z,aa[i])\n",
    "# z=zip(unlist(aa))\n",
    "# for item1,item2,item3 in z:\n",
    "#     print(item1,item2,item3)"
   ]
  },
  {
   "cell_type": "code",
   "execution_count": 205,
   "metadata": {},
   "outputs": [],
   "source": [
    "cc=''\n",
    "for j in range(aa[0].shape[0]):\n",
    "    for i in range(len(aa)):\n",
    "        cc=cc+str(aa[i][j])+\" \"\n",
    "    cc=cc+'\\n'"
   ]
  },
  {
   "cell_type": "code",
   "execution_count": 206,
   "metadata": {},
   "outputs": [
    {
     "name": "stdout",
     "output_type": "stream",
     "text": [
      "[1. 1. 1.] [1. 1. 0.] [1. 0. 0.] \n",
      "[0. 1. 1.] [1. 1. 1.] [1. 1. 0.] \n",
      "[0. 0. 1.] [0. 1. 1.] [1. 1. 1.] \n",
      "\n"
     ]
    }
   ],
   "source": [
    "print(cc)"
   ]
  },
  {
   "cell_type": "code",
   "execution_count": 176,
   "metadata": {},
   "outputs": [
    {
     "name": "stdout",
     "output_type": "stream",
     "text": [
      "[[1. 1. 1.]\n",
      " [0. 1. 1.]\n",
      " [0. 0. 1.]] [[1. 1. 0.]\n",
      " [1. 1. 1.]\n",
      " [0. 1. 1.]] [[1. 0. 0.]\n",
      " [1. 1. 0.]\n",
      " [1. 1. 1.]] "
     ]
    }
   ],
   "source": [
    "\n",
    "for item in aa:\n",
    "    print(item,end=\" \")"
   ]
  },
  {
   "cell_type": "code",
   "execution_count": 178,
   "metadata": {},
   "outputs": [
    {
     "name": "stdout",
     "output_type": "stream",
     "text": [
      "[[1. 1. 1.]\n",
      " [0. 1. 1.]\n",
      " [0. 0. 1.]]  [[1. 1. 0.]\n",
      " [1. 1. 1.]\n",
      " [0. 1. 1.]]\n"
     ]
    }
   ],
   "source": [
    "print(aa[0],end=\"  \")\n",
    "print(aa[1])"
   ]
  },
  {
   "cell_type": "code",
   "execution_count": 169,
   "metadata": {},
   "outputs": [
    {
     "name": "stdout",
     "output_type": "stream",
     "text": [
      "[[1. 1. 1.]\n",
      " [0. 1. 1.]\n",
      " [0. 0. 1.]]\n",
      "[[1. 1. 0.]\n",
      " [1. 1. 1.]\n",
      " [0. 1. 1.]]\n"
     ]
    },
    {
     "data": {
      "text/plain": [
       "(None, None)"
      ]
     },
     "execution_count": 169,
     "metadata": {},
     "output_type": "execute_result"
    }
   ],
   "source": [
    "print(str(aa[0])),print(str(aa[1]))"
   ]
  },
  {
   "cell_type": "code",
   "execution_count": 157,
   "metadata": {},
   "outputs": [
    {
     "data": {
      "text/plain": [
       "array([[1., 1., 1.],\n",
       "       [0., 1., 1.],\n",
       "       [0., 0., 1.]])"
      ]
     },
     "execution_count": 157,
     "metadata": {},
     "output_type": "execute_result"
    }
   ],
   "source": [
    "A"
   ]
  },
  {
   "cell_type": "code",
   "execution_count": 76,
   "metadata": {},
   "outputs": [
    {
     "data": {
      "text/plain": [
       "[(array([1., 1., 1.]), array([1., 1., 0.]), array([1., 0., 0.])),\n",
       " (array([0., 1., 1.]), array([1., 1., 1.]), array([1., 1., 0.])),\n",
       " (array([0., 0., 1.]), array([0., 1., 1.]), array([1., 1., 1.]))]"
      ]
     },
     "execution_count": 76,
     "metadata": {},
     "output_type": "execute_result"
    }
   ],
   "source": [
    "list(zip(A, B,C))"
   ]
  },
  {
   "cell_type": "code",
   "execution_count": 118,
   "metadata": {},
   "outputs": [
    {
     "data": {
      "text/plain": [
       "'    A'"
      ]
     },
     "execution_count": 118,
     "metadata": {},
     "output_type": "execute_result"
    }
   ],
   "source": [
    "\" \"*4+\"A\""
   ]
  },
  {
   "cell_type": "code",
   "execution_count": 121,
   "metadata": {},
   "outputs": [
    {
     "name": "stdout",
     "output_type": "stream",
     "text": [
      "    A          B          C\n",
      "[1. 1. 1.] [1. 1. 0.] [1. 0. 0.]\n",
      "[0. 1. 1.] [1. 1. 1.] [1. 1. 0.]\n",
      "[0. 0. 1.] [0. 1. 1.] [1. 1. 1.]\n"
     ]
    }
   ],
   "source": [
    "print(\" \"*4+\"A\",\" \"*9+\"B\",\" \"*9+\"C\")\n",
    "# print(\"    A   \",\"    B\",\"        C\")\n",
    "for item_a, item_b,item_c in zip(A, B,C):\n",
    "    print(item_a, item_b,item_c)"
   ]
  },
  {
   "cell_type": "code",
   "execution_count": 111,
   "metadata": {},
   "outputs": [
    {
     "data": {
      "text/plain": [
       "'    '"
      ]
     },
     "execution_count": 111,
     "metadata": {},
     "output_type": "execute_result"
    }
   ],
   "source": [
    "\" \"*4"
   ]
  },
  {
   "cell_type": "code",
   "execution_count": 78,
   "metadata": {},
   "outputs": [
    {
     "name": "stdout",
     "output_type": "stream",
     "text": [
      "[1. 1. 1.] [1. 1. 0.] [1. 0. 0.]\n",
      "[0. 1. 1.] [1. 1. 1.] [1. 1. 0.]\n",
      "[0. 0. 1.] [0. 1. 1.] [1. 1. 1.]\n",
      "\n",
      "\n",
      "[1. 1. 1.] [1. 1. 0.] [1. 0. 0.]\n",
      "[0. 1. 1.] [1. 1. 1.] [1. 1. 0.]\n",
      "[0. 0. 1.] [0. 1. 1.] [1. 1. 1.]\n"
     ]
    }
   ],
   "source": [
    "for item_a, item_b,item_c in zip(A, B,C):\n",
    "    print(item_a, item_b,item_c)\n",
    "print(\"\\n\")\n",
    "for item_a, item_b,item_c in zip(A, B,C):\n",
    "    print(item_a, item_b,item_c)    "
   ]
  }
 ],
 "metadata": {
  "kernelspec": {
   "display_name": "Python 3",
   "language": "python",
   "name": "python3"
  },
  "language_info": {
   "codemirror_mode": {
    "name": "ipython",
    "version": 3
   },
   "file_extension": ".py",
   "mimetype": "text/x-python",
   "name": "python",
   "nbconvert_exporter": "python",
   "pygments_lexer": "ipython3",
   "version": "3.6.8"
  }
 },
 "nbformat": 4,
 "nbformat_minor": 2
}
